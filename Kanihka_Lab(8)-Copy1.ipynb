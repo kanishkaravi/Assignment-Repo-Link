{
 "cells": [
  {
   "cell_type": "markdown",
   "id": "603dfe2c",
   "metadata": {},
   "source": [
    "## EDUNET FOUNDATION - Self-Practice Exercise Notebook"
   ]
  },
  {
   "cell_type": "markdown",
   "id": "c3e375f7",
   "metadata": {},
   "source": [
    "### LAB 8 - Implementing Numpy Concepts in Python"
   ]
  },
  {
   "cell_type": "markdown",
   "id": "49e7b23c",
   "metadata": {},
   "source": [
    "Problem 1: Write a NumPy program to test whether none of the elements of a given array are zero."
   ]
  },
  {
   "cell_type": "code",
   "execution_count": 3,
   "id": "e99c48cb",
   "metadata": {},
   "outputs": [
    {
     "name": "stdout",
     "output_type": "stream",
     "text": [
      "False\n"
     ]
    }
   ],
   "source": [
    "import numpy as np\n",
    "arr = np.array([0, 2, 3, 4, 5])\n",
    "print(np.all(arr!=0))"
   ]
  },
  {
   "cell_type": "markdown",
   "id": "3f406bde",
   "metadata": {},
   "source": [
    "Problem 2: Write a NumPy program to create an array of 10 zeros, 10 ones, and 10 fives. "
   ]
  },
  {
   "cell_type": "code",
   "execution_count": 9,
   "id": "dc28d213",
   "metadata": {},
   "outputs": [
    {
     "name": "stdout",
     "output_type": "stream",
     "text": [
      "[0. 0. 0. 0. 0. 0. 0. 0. 0. 0.] [1. 1. 1. 1. 1. 1. 1. 1. 1. 1.] [5 5 5 5 5 5 5 5 5 5]\n"
     ]
    }
   ],
   "source": [
    "a=np.zeros(10)\n",
    "b=np.ones(10)\n",
    "c=np.full(10,5)\n",
    "print(a,b,c)"
   ]
  },
  {
   "cell_type": "markdown",
   "id": "60056cc8",
   "metadata": {},
   "source": [
    "Problem 3: Write a NumPy program to generate an array of 15 random numbers from a standard normal distribution."
   ]
  },
  {
   "cell_type": "code",
   "execution_count": 14,
   "id": "2874b8a4",
   "metadata": {},
   "outputs": [
    {
     "name": "stdout",
     "output_type": "stream",
     "text": [
      "[ 1.46429647e-01 -2.17123795e-01 -6.11917969e-01 -1.10334730e-03\n",
      " -1.00192379e+00 -4.58524953e-01 -4.58886021e-01 -8.08145140e-01\n",
      "  8.74363491e-01  4.52465626e-01 -1.73572480e+00 -1.33095925e-01\n",
      "  3.39520656e-01  8.32110223e-01 -1.26066446e+00]\n"
     ]
    }
   ],
   "source": [
    "a=np.random.randn(15)\n",
    "print(a)"
   ]
  },
  {
   "cell_type": "markdown",
   "id": "6031b4ab",
   "metadata": {},
   "source": [
    "Problem 4: Write a NumPy program to create a two-dimensional array with shape (8,5) of random numbers. Select random numbers from a normal distribution (200,7)."
   ]
  },
  {
   "cell_type": "code",
   "execution_count": 26,
   "id": "19065db9",
   "metadata": {},
   "outputs": [
    {
     "name": "stdout",
     "output_type": "stream",
     "text": [
      "[[205.67426773 197.45385322 210.68542735 204.9624836  191.65560099]\n",
      " [193.15138882 201.96669845 206.08176284 205.90527431 206.4763274 ]\n",
      " [206.84538298 193.87206547 218.0669397  194.74406861 190.0662275 ]\n",
      " [195.80304961 204.07004895 207.50511222 215.16999857 202.32541172]\n",
      " [211.21108933 195.70373987 199.59085767 202.49908426 198.86033505]\n",
      " [190.74774294 199.35237412 200.5376301  196.88699046 197.13461013]\n",
      " [188.35900856 212.59983281 193.84360984 210.65257211 192.94384448]\n",
      " [218.18879211 206.35179999 207.14994487 199.69879495 205.01750762]]\n"
     ]
    }
   ],
   "source": [
    "a=np.random.normal(200,7,(8,5))\n",
    "print(a)"
   ]
  },
  {
   "cell_type": "markdown",
   "id": "d3273c29",
   "metadata": {},
   "source": [
    "Problem 5: Write a NumPy program to create a 4x4 array. Create an array from said array by swapping first and last, second and third columns."
   ]
  },
  {
   "cell_type": "code",
   "execution_count": 29,
   "id": "7cfe495c",
   "metadata": {},
   "outputs": [
    {
     "name": "stdout",
     "output_type": "stream",
     "text": [
      "Oringinal: [[ 2 12 12 16]\n",
      " [13  3  4 14]\n",
      " [ 7 16  5 10]\n",
      " [15  1 10 14]]\n",
      "Swaped: [[16 12 12  2]\n",
      " [14  4  3 13]\n",
      " [10  5 16  7]\n",
      " [14 10  1 15]]\n"
     ]
    }
   ],
   "source": [
    "arr1=np.random.randint(1,17,(4,4))\n",
    "print(\"Oringinal:\",arr1)\n",
    "arr1[:,[0,1,2,3]]=arr1[:,[3,2,1,0]]\n",
    "print(\"Swaped:\",arr1)"
   ]
  },
  {
   "cell_type": "markdown",
   "id": "a572703e",
   "metadata": {},
   "source": [
    "Problem 6: Write a NumPy program to swap rows and columns of a given array in reverse order."
   ]
  },
  {
   "cell_type": "code",
   "execution_count": 36,
   "id": "d6399e57",
   "metadata": {},
   "outputs": [
    {
     "name": "stdout",
     "output_type": "stream",
     "text": [
      "Original:\n",
      " [[13  1 10 10  3]\n",
      " [16  2 15  6  6]\n",
      " [14  7  4 12 10]\n",
      " [ 9  8 11 16 11]\n",
      " [ 7  2 11  2  2]]\n",
      "\n",
      "\n",
      " [[ 2  2 11  2  7]\n",
      " [11 16 11  8  9]\n",
      " [10 12  4  7 14]\n",
      " [ 6  6 15  2 16]\n",
      " [ 3 10 10  1 13]]\n"
     ]
    }
   ],
   "source": [
    "arr=np.random.randint(1,20,(5,5))\n",
    "print(\"Original:\\n\",arr)\n",
    "a=arr[::-1,::-1]\n",
    "print(\"\\n\\n\",a)"
   ]
  },
  {
   "cell_type": "markdown",
   "id": "084cc294",
   "metadata": {},
   "source": [
    "Problem 7: Write a NumPy program to multiply two given arrays of the same size element-by-element."
   ]
  },
  {
   "cell_type": "code",
   "execution_count": 40,
   "id": "5192a4fb",
   "metadata": {},
   "outputs": [
    {
     "name": "stdout",
     "output_type": "stream",
     "text": [
      "[[27 29 22 25 28]\n",
      " [22 26 25 29 20]\n",
      " [23 24 24 23 29]\n",
      " [22 27 28 20 29]\n",
      " [22 22 24 24 25]] \n",
      "*\n",
      " [[43 45 45 46 41]\n",
      " [41 42 44 41 48]\n",
      " [48 41 40 44 42]\n",
      " [40 44 43 42 45]\n",
      " [47 42 45 45 48]] \n",
      "=\n",
      " [[1161 1305  990 1150 1148]\n",
      " [ 902 1092 1100 1189  960]\n",
      " [1104  984  960 1012 1218]\n",
      " [ 880 1188 1204  840 1305]\n",
      " [1034  924 1080 1080 1200]]\n"
     ]
    }
   ],
   "source": [
    "arr1=np.random.randint(20,30,(5,5))\n",
    "arr2=np.random.randint(40,50,(5,5))\n",
    "arr=arr1*arr2\n",
    "print(arr1,\"\\n*\\n\",arr2,\"\\n=\\n\",arr)"
   ]
  },
  {
   "cell_type": "markdown",
   "id": "cece8212",
   "metadata": {},
   "source": [
    "Problem 8: Write a NumPy program to create a 3x3 matrix with values ranging from 2 to 10."
   ]
  },
  {
   "cell_type": "code",
   "execution_count": 41,
   "id": "c651fee4",
   "metadata": {},
   "outputs": [
    {
     "name": "stdout",
     "output_type": "stream",
     "text": [
      "[[4 8 5]\n",
      " [5 8 7]\n",
      " [3 7 2]]\n"
     ]
    }
   ],
   "source": [
    "num=np.random.randint(2,10,(3,3))\n",
    "print(num)"
   ]
  },
  {
   "cell_type": "markdown",
   "id": "f6ed22c3",
   "metadata": {},
   "source": [
    "Problem 9: Write a NumPy program to create a 3x3x3 array with random values.\n",
    "Expected Output:\n",
    "\n",
    "[[[ 0.48941799 0.58722213 0.43453926]\n",
    "[ 0.94497547 0.81081709 0.1510409 ]\n",
    "[ 0.66657127 0.29494755 0.48047144]]\n",
    "[[ 0.02287253 0.95232614 0.32264936]\n",
    "[ 0.67009741 0.25458304 0.16290913]\n",
    "[ 0.15520198 0.86826529 0.9679322 ]]\n",
    "[[ 0.13503103 0.02042211 0.24683897]\n",
    "[ 0.97852158 0.22374748 0.10798856]\n",
    "[ 0.62032646 0.5893892 0.16958144]]]"
   ]
  },
  {
   "cell_type": "code",
   "execution_count": 45,
   "id": "c6d00ffa",
   "metadata": {},
   "outputs": [
    {
     "data": {
      "text/plain": [
       "array([[[0.27825359, 0.10121887, 0.95091834],\n",
       "        [0.27879708, 0.10655431, 0.5255431 ],\n",
       "        [0.39343869, 0.73908909, 0.79533094]],\n",
       "\n",
       "       [[0.03928951, 0.30606012, 0.31469228],\n",
       "        [0.97800315, 0.74971691, 0.71382059],\n",
       "        [0.79736848, 0.58486546, 0.75979457]],\n",
       "\n",
       "       [[0.50960927, 0.02239602, 0.47495689],\n",
       "        [0.66597053, 0.99024468, 0.43816899],\n",
       "        [0.90308117, 0.94919529, 0.54581488]]])"
      ]
     },
     "execution_count": 45,
     "metadata": {},
     "output_type": "execute_result"
    }
   ],
   "source": [
    "np.random.rand(3,3,3)"
   ]
  },
  {
   "cell_type": "markdown",
   "id": "3be0503b",
   "metadata": {},
   "source": [
    "Problem 10: Write a Python program to find the maximum and minimum value of a given flattened array."
   ]
  },
  {
   "cell_type": "code",
   "execution_count": 50,
   "id": "cca088a0",
   "metadata": {},
   "outputs": [
    {
     "name": "stdout",
     "output_type": "stream",
     "text": [
      "[[5 8 1 4 2]\n",
      " [4 1 7 2 7]\n",
      " [8 3 9 1 9]\n",
      " [1 3 3 8 1]\n",
      " [8 5 4 2 3]]\n",
      "9\n",
      "1\n"
     ]
    }
   ],
   "source": [
    "arr=np.random.randint(1,10,(5,5))\n",
    "print(arr)\n",
    "print(np.max(arr))\n",
    "print(np.min(arr))"
   ]
  },
  {
   "cell_type": "markdown",
   "id": "13b994ea",
   "metadata": {},
   "source": [
    "Problem 11: Write a NumPy program to add, subtract, multiply, divide arguments element-wise.     \n",
    "Expected Output:\n",
    "Add:\n",
    "5.0\n",
    "Subtract:\n",
    "-3.0\n",
    "Multiply:\n",
    "4.0\n",
    "Divide:\n",
    "0.25"
   ]
  },
  {
   "cell_type": "code",
   "execution_count": 55,
   "id": "9c9e8d26",
   "metadata": {},
   "outputs": [
    {
     "name": "stdout",
     "output_type": "stream",
     "text": [
      "Add: 5.0\n",
      "Subtract: -3.0\n",
      "Multiply: 4.0\n",
      "Divide: 0.25\n"
     ]
    }
   ],
   "source": [
    "n1=np.array([1])\n",
    "n2=np.array([4])\n",
    "print(\"Add:\",float(n1+n2))\n",
    "print(\"Subtract:\",float(n1-n2))\n",
    "print(\"Multiply:\",float(n1*n2))\n",
    "print(\"Divide:\",float(n1/n2))"
   ]
  },
  {
   "cell_type": "markdown",
   "id": "7c146966",
   "metadata": {},
   "source": [
    "Problem 12: Write a NumPy program to get the powers of an array values element-wise.\n",
    "Note: First array elements raised to powers from second array\n",
    "Expected Output:\n",
    "Original array\n",
    "[0 1 2 3 4 5 6]\n",
    "First array elements raised to powers from second array, element-wise:\n",
    "[ 0 1 8 27 64 125 216]"
   ]
  },
  {
   "cell_type": "code",
   "execution_count": 56,
   "id": "d941af99",
   "metadata": {},
   "outputs": [
    {
     "name": "stdout",
     "output_type": "stream",
     "text": [
      "[  0   1   8  27  64 125 216]\n"
     ]
    }
   ],
   "source": [
    "arr=np.array([0,1,2,3,4,5,6])\n",
    "print(pow(arr,3))"
   ]
  },
  {
   "cell_type": "markdown",
   "id": "2c681bc5",
   "metadata": {},
   "source": [
    "Problem 13: Create a Python project to guess a number that has randomly selected."
   ]
  },
  {
   "cell_type": "code",
   "execution_count": 58,
   "id": "8ed2b940",
   "metadata": {},
   "outputs": [
    {
     "name": "stdout",
     "output_type": "stream",
     "text": [
      "Enter number between 1 to 15:\n",
      "12\n",
      "Sorry,The random number is 10\n"
     ]
    }
   ],
   "source": [
    "a=np.random.randint(1,16)\n",
    "num=int(input(\"Enter number between 1 to 15:\\n\"))\n",
    "if num==a:\n",
    "    print(\"You guess the correct number\")\n",
    "else:\n",
    "    print(\"Sorry,The random number is\",a)"
   ]
  },
  {
   "cell_type": "markdown",
   "id": "ac4db926",
   "metadata": {},
   "source": [
    "Problem 14: Write a NumPy program to create a 2D array with 1 on the border and 0 inside.        \n",
    "Expected Output:\n",
    "Original array:\n",
    "[[ 1. 1. 1. 1. 1.]\n",
    "...................\n",
    "[ 1. 1. 1. 1. 1.]]\n",
    "1 on the border and 0 inside in the array\n",
    "[[ 1. 1. 1. 1. 1.]\n",
    "...................\n",
    "[ 1. 1. 1. 1. 1.]]"
   ]
  },
  {
   "cell_type": "code",
   "execution_count": 64,
   "id": "00fdc28c",
   "metadata": {},
   "outputs": [
    {
     "name": "stdout",
     "output_type": "stream",
     "text": [
      "Original array:\n",
      " [[1. 1. 1. 1. 1.]\n",
      " [1. 1. 1. 1. 1.]\n",
      " [1. 1. 1. 1. 1.]\n",
      " [1. 1. 1. 1. 1.]\n",
      " [1. 1. 1. 1. 1.]] \n",
      "\n",
      "1 on the border and 0 inside in the array\n",
      " [[1. 1. 1. 1. 1.]\n",
      " [1. 0. 0. 0. 1.]\n",
      " [1. 0. 0. 0. 1.]\n",
      " [1. 0. 0. 0. 1.]\n",
      " [1. 1. 1. 1. 1.]]\n"
     ]
    }
   ],
   "source": [
    "arr = np.ones((5, 5))\n",
    "print(\"Original array:\\n\",arr,\"\\n\")\n",
    "arr[1:-1, 1:-1] = 0\n",
    "print(\"1 on the border and 0 inside in the array\\n\",arr)\n"
   ]
  },
  {
   "cell_type": "markdown",
   "id": "94da568d",
   "metadata": {},
   "source": [
    "Problem 15: Write a NumPy program to append values to the end of an array.                      \n",
    "Expected Output:\n",
    "Original array:\n",
    "[10, 20, 30]\n",
    "After append values to the end of the array:\n",
    "[10 20 30 40 50 60 70 80 90]"
   ]
  },
  {
   "cell_type": "code",
   "execution_count": 66,
   "id": "11d2ce98",
   "metadata": {},
   "outputs": [
    {
     "name": "stdout",
     "output_type": "stream",
     "text": [
      "Original array: [10 20 30]\n",
      "After append values to the end of the array: [10 20 30 40 50 60 70 80 90]\n"
     ]
    }
   ],
   "source": [
    "arr = np.array([10, 20, 30])\n",
    "print(\"Original array:\", arr)\n",
    "arr = np.append(arr, [40, 50, 60, 70, 80, 90])\n",
    "print(\"After append values to the end of the array:\", arr)"
   ]
  },
  {
   "cell_type": "code",
   "execution_count": null,
   "id": "c8b7d23a",
   "metadata": {},
   "outputs": [],
   "source": []
  }
 ],
 "metadata": {
  "kernelspec": {
   "display_name": "Python 3",
   "language": "python",
   "name": "python3"
  },
  "language_info": {
   "codemirror_mode": {
    "name": "ipython",
    "version": 3
   },
   "file_extension": ".py",
   "mimetype": "text/x-python",
   "name": "python",
   "nbconvert_exporter": "python",
   "pygments_lexer": "ipython3",
   "version": "3.8.8"
  }
 },
 "nbformat": 4,
 "nbformat_minor": 5
}
